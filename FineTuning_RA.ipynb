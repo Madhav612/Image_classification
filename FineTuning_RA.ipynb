{
  "nbformat": 4,
  "nbformat_minor": 0,
  "metadata": {
    "colab": {
      "name": "FineTuning_RA.ipynb",
      "provenance": [],
      "collapsed_sections": []
    },
    "kernelspec": {
      "name": "python3",
      "display_name": "Python 3"
    },
    "language_info": {
      "name": "python"
    },
    "accelerator": "GPU"
  },
  "cells": [
    {
      "cell_type": "code",
      "source": [
        "from __future__ import print_function, division\n",
        "\n",
        "import matplotlib.pyplot as plt\n",
        "import time\n",
        "import os\n",
        "import copy\n",
        "\n",
        "plt.ion()\n",
        "\n",
        "from torch.optim import lr_scheduler\n",
        "import numpy as np\n",
        "from torchvision import datasets, models, transforms\n",
        "import torch # PyTorch package\n",
        "import torchvision # load datasets\n",
        "import torchvision.transforms as transforms # transform data\n",
        "import torch.nn as nn # basic building block for neural neteorks\n",
        "import torch.nn.functional as F # import convolution functions like Relu\n",
        "import torch.optim as optim # optimzer\n",
        "import torch.utils.data as data\n",
        "from torch.autograd import Variable\n",
        "from torch.utils.data import Dataset, DataLoader\n",
        "torch.cuda.empty_cache()\n"
      ],
      "metadata": {
        "id": "apBEPrLHQpfG"
      },
      "execution_count": 17,
      "outputs": []
    },
    {
      "cell_type": "code",
      "source": [
        "data_transforms = {\n",
        "    'train': transforms.Compose([\n",
        "        transforms.RandomHorizontalFlip(),\n",
        "        transforms.Resize((512,512)),\n",
        "        transforms.ToTensor(),\n",
        "        transforms.RandomRotation(10),\n",
        "        transforms.RandomVerticalFlip(),\n",
        "        transforms.Normalize([0.485, 0.456, 0.406], [0.229, 0.224, 0.225])\n",
        "    ]),\n",
        "    'test': transforms.Compose([\n",
        "        transforms.ToTensor(),\n",
        "        transforms.Resize((512,512)),\n",
        "        transforms.Normalize([0.485, 0.456, 0.406], [0.229, 0.224, 0.225])\n",
        "    ]),\n",
        "}\n",
        "\n",
        "data_dir = \"/content/drive/MyDrive/RA/\"\n",
        "image_datasets = {x: datasets.ImageFolder(os.path.join(data_dir, x),data_transforms[x]) for x in ['train', 'test']}\n",
        "dataloaders = {x: torch.utils.data.DataLoader(image_datasets[x], batch_size=4,shuffle=True, num_workers=4) for x in ['train', 'test']}\n",
        "dataset_sizes = {x: len(image_datasets[x]) for x in ['train', 'test']}\n",
        "class_names = image_datasets['train'].classes\n",
        "\n",
        "device = torch.device(\"cuda:0\" if torch.cuda.is_available() else \"cpu\")"
      ],
      "metadata": {
        "id": "uIyx23IGQsxd",
        "colab": {
          "base_uri": "https://localhost:8080/"
        },
        "outputId": "e4dbc250-2d3a-4ce5-efab-4fcef19dac53"
      },
      "execution_count": 9,
      "outputs": [
        {
          "output_type": "stream",
          "name": "stderr",
          "text": [
            "/usr/local/lib/python3.7/dist-packages/torch/utils/data/dataloader.py:481: UserWarning: This DataLoader will create 4 worker processes in total. Our suggested max number of worker in current system is 2, which is smaller than what this DataLoader is going to create. Please be aware that excessive worker creation might get DataLoader running slow or even freeze, lower the worker number to avoid potential slowness/freeze if necessary.\n",
            "  cpuset_checked))\n"
          ]
        }
      ]
    },
    {
      "cell_type": "code",
      "source": [
        "def train_model(model, criterion, optimizer, scheduler, num_epochs=25):\n",
        "    since = time.time()\n",
        "\n",
        "    best_model_wts = copy.deepcopy(model.state_dict())\n",
        "    best_acc = 0.0\n",
        "    train_loss = []\n",
        "    train_accuracy = []\n",
        "    test_loss = []\n",
        "    test_accuracy = []\n",
        "    for epoch in range(num_epochs):\n",
        "        print('Epoch {}/{}'.format(epoch, num_epochs - 1))\n",
        "        print('-' * 10)\n",
        "\n",
        "        # Each epoch has a training and validation phase\n",
        "        for phase in ['train', 'test']:\n",
        "            if phase == 'train':\n",
        "                model.train()  # Set model to training mode\n",
        "            else:\n",
        "                model.eval()   # Set model to evaluate mode\n",
        "\n",
        "            running_loss = 0.0\n",
        "            running_corrects = 0\n",
        "\n",
        "            # Iterate over data.\n",
        "            for inputs, labels in dataloaders[phase]:\n",
        "                inputs = inputs.to(device)\n",
        "                labels = labels.to(device)\n",
        "\n",
        "                # zero the parameter gradients\n",
        "                optimizer.zero_grad()\n",
        "\n",
        "                # forward\n",
        "                # track history if only in train\n",
        "                with torch.set_grad_enabled(phase == 'train'):\n",
        "                    outputs = model(inputs)\n",
        "                    _, preds = torch.max(outputs, 1)\n",
        "                    loss = criterion(outputs, labels)\n",
        "\n",
        "                    # backward + optimize only if in training phase\n",
        "                    if phase == 'train':\n",
        "                        loss.backward()\n",
        "                        optimizer.step()\n",
        "\n",
        "                # statistics\n",
        "                running_loss += loss.item() * inputs.size(0)\n",
        "                running_corrects += torch.sum(preds == labels.data)\n",
        "            if phase == 'train':\n",
        "                scheduler.step()\n",
        "\n",
        "            epoch_loss = running_loss / dataset_sizes[phase]\n",
        "            epoch_acc = running_corrects.double() / dataset_sizes[phase]\n",
        "            if phase == 'test':\n",
        "              test_accuracy.append(epoch_acc)\n",
        "              test_loss.append(epoch_loss)\n",
        "            else:\n",
        "              train_accuracy.append(epoch_acc)\n",
        "              train_loss.append(epoch_loss)\n",
        "            print('{} Loss: {:.4f} Acc: {:.4f}'.format(\n",
        "                phase, epoch_loss, epoch_acc))\n",
        "            if epoch_acc > best_acc:\n",
        "                model_name = f'CNS_{int(epoch+6)}_tuning_final.pth'\n",
        "                path = f\"/content/drive/MyDrive/RA/{model_name}\" \n",
        "                torch.save(model.state_dict(), path)\n",
        "            # deep copy the model\n",
        "            if phase == 'test' and epoch_acc > best_acc:\n",
        "                best_acc = epoch_acc\n",
        "                best_model_wts = copy.deepcopy(model.state_dict())\n",
        "\n",
        "    time_elapsed = time.time() - since\n",
        "    print('Training complete in {:.0f}m {:.0f}s'.format(\n",
        "        time_elapsed // 60, time_elapsed % 60))\n",
        "    print('Best val Acc: {:4f}'.format(best_acc))\n",
        "    \n",
        "    # load best model weights\n",
        "    model.load_state_dict(best_model_wts)\n",
        "    return model, train_accuracy, train_loss, test_accuracy, test_loss"
      ],
      "metadata": {
        "id": "b9U0OW3bQ6Wx"
      },
      "execution_count": 10,
      "outputs": []
    },
    {
      "cell_type": "code",
      "source": [
        "def visualize_model(model, num_images=6):\n",
        "    was_training = model.training\n",
        "    model.eval()\n",
        "    images_so_far = 0\n",
        "    # fig = plt.figure()\n",
        "    correct = 0\n",
        "    total = 0\n",
        "    actual = []\n",
        "    predicted_list = []\n",
        "    with torch.no_grad():\n",
        "        for i, (inputs, labels) in enumerate(dataloaders['test']):\n",
        "            inputs = inputs.to(device)\n",
        "            labels = labels.to(device)\n",
        "            outputs = model(inputs)\n",
        "            _, predicted = torch.max(outputs, 1)\n",
        "            total += labels.size(0)\n",
        "            for i in range(len(predicted)):\n",
        "              actual.append(labels[i].view(-1).detach().cpu().numpy())\n",
        "              predicted_list.append(predicted[i].view(-1).detach().cpu().numpy())\n",
        "            correct += (predicted == labels).sum().item()\n",
        "    print('Accuracy of the network on the test images: %d %%' % (100 * correct / total))\n",
        "    return actual,predicted_list"
      ],
      "metadata": {
        "id": "DoeVc5p-MpQH"
      },
      "execution_count": 23,
      "outputs": []
    },
    {
      "cell_type": "code",
      "source": [
        "# model_path = \"/content/drive/MyDrive/RA/CNS_7783_tuning_final.pth\"\n",
        "# model_conv.load_state_dict(torch.load(model_path))"
      ],
      "metadata": {
        "colab": {
          "base_uri": "https://localhost:8080/"
        },
        "id": "P5OQX9805Jc3",
        "outputId": "5ecaaa26-9452-40c3-c895-7aef35827787"
      },
      "execution_count": 14,
      "outputs": [
        {
          "output_type": "execute_result",
          "data": {
            "text/plain": [
              "<All keys matched successfully>"
            ]
          },
          "metadata": {},
          "execution_count": 14
        }
      ]
    },
    {
      "cell_type": "code",
      "execution_count": 15,
      "metadata": {
        "id": "i9voQANoQfIp"
      },
      "outputs": [],
      "source": [
        "model_conv = torchvision.models.resnet18(pretrained=True)\n",
        "for param in model_conv.parameters():\n",
        "    param.requires_grad = False\n",
        "\n",
        "# Parameters of newly constructed modules have requires_grad=True by default\n",
        "num_ftrs = model_conv.fc.in_features\n",
        "model_conv.fc = nn.Linear(num_ftrs, len(class_names))\n",
        "\n",
        "model_conv = model_conv.to(device)\n",
        "\n",
        "criterion = nn.CrossEntropyLoss()\n",
        "\n",
        "# Observe that only parameters of final layer are being optimized as\n",
        "# opposed to before.\n",
        "optimizer_conv = optim.SGD(model_conv.fc.parameters(), lr=0.005, momentum=0.9)\n",
        "\n",
        "# Decay LR by a factor of 0.1 every 7 epochs\n",
        "exp_lr_scheduler = lr_scheduler.StepLR(optimizer_conv, step_size=7, gamma=0.1)\n"
      ]
    },
    {
      "cell_type": "code",
      "source": [
        "model_conv,accuracy_list,train_loss,test_accuracy,test_loss = train_model(model_conv, criterion, optimizer_conv,\n",
        "                         exp_lr_scheduler, num_epochs=4)"
      ],
      "metadata": {
        "id": "qrroeICcRM_L"
      },
      "execution_count": 52,
      "outputs": []
    },
    {
      "cell_type": "code",
      "source": [
        "actual,predicted_list = visualize_model(model_conv)"
      ],
      "metadata": {
        "id": "iFaYQlY7ZVID"
      },
      "execution_count": 53,
      "outputs": []
    },
    {
      "cell_type": "code",
      "source": [
        "import pandas as pd\n",
        "import seaborn as sns\n",
        "from sklearn.metrics import confusion_matrix\n",
        "from sklearn.metrics import classification_report\n",
        "from sklearn.metrics import precision_recall_fscore_support as score"
      ],
      "metadata": {
        "id": "0xJR_dqSdkCB"
      },
      "execution_count": 26,
      "outputs": []
    },
    {
      "cell_type": "code",
      "source": [
        "df = pd.DataFrame(accuracy_list,columns=['Accuracy'])\n",
        "df['epochs'] = np.arange(1,len(accuracy_list)+1).astype('int')\n",
        "df['train loss'] = train_loss"
      ],
      "metadata": {
        "id": "tafIDv58dffZ"
      },
      "execution_count": 36,
      "outputs": []
    },
    {
      "cell_type": "code",
      "source": [
        "fig, (ax1, ax2) = plt.subplots(1, 2,figsize=(10,5))\n",
        "# plt.figure(figsize=(10,10))\n",
        "# fig.suptitle('')\n",
        "sns.lineplot(x='epochs',y='Accuracy',data=df,ax=ax1)\n",
        "ax1.set_title('Accuracy')\n",
        "sns.lineplot(x='epochs',y='train loss',data=df,ax=ax2)\n",
        "ax2.set_title('Loss')"
      ],
      "metadata": {
        "colab": {
          "base_uri": "https://localhost:8080/",
          "height": 368
        },
        "id": "fnPTSJaCRQgO",
        "outputId": "3253edfa-5756-464a-ab04-600619a1362d"
      },
      "execution_count": 50,
      "outputs": [
        {
          "output_type": "execute_result",
          "data": {
            "text/plain": [
              "Text(0.5, 1.0, 'Loss')"
            ]
          },
          "metadata": {},
          "execution_count": 50
        },
        {
          "output_type": "display_data",
          "data": {
            "image/png": "[encoded data removed]",
            "text/plain": [
              "<Figure size 720x360 with 2 Axes>"
            ]
          },
          "metadata": {
            "needs_background": "light"
          }
        }
      ]
    },
    {
      "cell_type": "code",
      "source": [
        "# correct = 0\n",
        "# total = 0\n",
        "# actual = []\n",
        "# predicted_list = []\n",
        "# with torch.no_grad():\n",
        "#     for _,(image,label) in enumerate(test_iter_loader):\n",
        "#         images = image.to(device)\n",
        "#         labels = label.to(device)\n",
        "#         outputs = net(images)\n",
        "#         _, predicted = torch.max(outputs.data, 1)\n",
        "#         total += labels.size(0)\n",
        "#         for i in range(len(predicted)):\n",
        "#             actual.append(labels[i].view(-1).detach().cpu().numpy())\n",
        "#             predicted_list.append(predicted[i].view(-1).detach().cpu().numpy())\n",
        "# #         actual.append(labels)\n",
        "# #         predicted_list.append(predicted)\n",
        "#         print(labels,predicted)\n",
        "#         correct += (predicted == labels).sum().item()\n",
        "# # \n",
        "# print('Accuracy of the network on the test images: %d %%' % (\n",
        "#     100 * correct / total))"
      ],
      "metadata": {
        "id": "r1SHreTjdn7z"
      },
      "execution_count": null,
      "outputs": []
    },
    {
      "cell_type": "code",
      "source": [
        "arr = classification_report(np.array(actual), np.array(predicted_list),target_names=class_names)"
      ],
      "metadata": {
        "id": "CplUzeYDdtBV"
      },
      "execution_count": 32,
      "outputs": []
    },
    {
      "cell_type": "code",
      "source": [
        "print(arr)"
      ],
      "metadata": {
        "id": "YtV0ZZ0UdwwW",
        "colab": {
          "base_uri": "https://localhost:8080/"
        },
        "outputId": "7563b5ec-5d8c-4438-9576-70abeab4c9df"
      },
      "execution_count": 33,
      "outputs": [
        {
          "output_type": "stream",
          "name": "stdout",
          "text": [
            "                 precision    recall  f1-score   support\n",
            "\n",
            "          colon       0.84      0.62      0.71        50\n",
            "  endometrium_1       0.51      0.84      0.64        50\n",
            "  endometrium_2       0.80      0.56      0.66        50\n",
            "         kidney       0.97      0.72      0.83        50\n",
            "          liver       0.77      0.94      0.85        50\n",
            "           lung       0.80      0.94      0.86        50\n",
            "     lymph_node       0.44      0.82      0.57        50\n",
            "       pancreas       1.00      0.52      0.68        50\n",
            "         skin_1       0.68      0.68      0.68        50\n",
            "         skin_2       0.48      0.90      0.63        50\n",
            "small_intestine       0.88      0.44      0.59        50\n",
            "         spleen       1.00      0.02      0.04        50\n",
            "\n",
            "       accuracy                           0.67       600\n",
            "      macro avg       0.76      0.67      0.64       600\n",
            "   weighted avg       0.76      0.67      0.64       600\n",
            "\n"
          ]
        }
      ]
    },
    {
      "cell_type": "code",
      "source": [
        "confusion_matrix = confusion_matrix(np.array(actual), np.array(predicted_list))\n",
        "plt.figure(figsize=(10,10))\n",
        "sns.heatmap(pd.DataFrame(confusion_matrix),annot=True,xticklabels=class_names,yticklabels=class_names)"
      ],
      "metadata": {
        "id": "GhsUym8Sd0Ra",
        "colab": {
          "base_uri": "https://localhost:8080/",
          "height": 678
        },
        "outputId": "e6fb161e-bd05-4d80-96f0-09d95463383c"
      },
      "execution_count": 34,
      "outputs": [
        {
          "output_type": "execute_result",
          "data": {
            "text/plain": [
              "<matplotlib.axes._subplots.AxesSubplot at 0x7feadd953390>"
            ]
          },
          "metadata": {},
          "execution_count": 34
        },
        {
          "output_type": "display_data",
          "data": {
            "image/png": "[encoded data removed]",
            "text/plain": [
              "<Figure size 720x720 with 2 Axes>"
            ]
          },
          "metadata": {
            "needs_background": "light"
          }
        }
      ]
    },
    {
      "cell_type": "code",
      "source": [
        ""
      ],
      "metadata": {
        "id": "C0TvYMBsd1AW"
      },
      "execution_count": null,
      "outputs": []
    },
    {
      "cell_type": "code",
      "source": [
        "# model_name = f'CNS_final_tuning.pth'\n",
        "# path = f\"/content/drive/MyDrive/RA/{model_name}\" \n",
        "# torch.save(model_conv.state_dict(), path)"
      ],
      "metadata": {
        "id": "Zh9VRv8DZVEg"
      },
      "execution_count": null,
      "outputs": []
    },
    {
      "cell_type": "code",
      "source": [
        ""
      ],
      "metadata": {
        "id": "nNAwyFrUZVCE"
      },
      "execution_count": null,
      "outputs": []
    },
    {
      "cell_type": "code",
      "source": [
        ""
      ],
      "metadata": {
        "id": "TXuF9pHiZVAs"
      },
      "execution_count": null,
      "outputs": []
    }
  ]
}