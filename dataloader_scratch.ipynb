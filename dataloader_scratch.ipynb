{
 "cells": [
  {
   "cell_type": "code",
   "execution_count": 1,
   "id": "2baa536c",
   "metadata": {},
   "outputs": [],
   "source": [
    "import matplotlib.pyplot as plt\n",
    "import os\n",
    "import gc# from google.colab import files\n",
    "import glob\n",
    "import cv2\n",
    "import numpy as np"
   ]
  },
  {
   "cell_type": "code",
   "execution_count": 2,
   "id": "9e406f15",
   "metadata": {},
   "outputs": [],
   "source": [
    "import torch # PyTorch package\n",
    "import torchvision # load datasets\n",
    "import torchvision.transforms as transforms # transform data\n",
    "import torch.nn as nn # basic building block for neural neteorks\n",
    "import torch.nn.functional as F # import convolution functions like Relu\n",
    "import torch.optim as optim # optimzer\n",
    "import torch.utils.data as data\n",
    "from torch.autograd import Variable\n",
    "from torch.utils.data import Dataset, DataLoader\n",
    "torch.cuda.empty_cache()\n",
    "import gc\n",
    "gc.collect()\n",
    "from sklearn.metrics import confusion_matrix\n",
    "from sklearn.metrics import classification_report\n",
    "from sklearn.metrics import precision_recall_fscore_support as score\n",
    "import seaborn as sns\n",
    "import pandas as pd"
   ]
  },
  {
   "cell_type": "code",
   "execution_count": 3,
   "id": "3d79bbb3",
   "metadata": {},
   "outputs": [],
   "source": [
    "torch.manual_seed(42)\n",
    "device = torch.device(\"cuda:0\")\n",
    "torch.set_default_tensor_type('torch.cuda.FloatTensor')"
   ]
  },
  {
   "cell_type": "code",
   "execution_count": 4,
   "id": "4fef1232",
   "metadata": {},
   "outputs": [],
   "source": [
    "# import splitfolders"
   ]
  },
  {
   "cell_type": "code",
   "execution_count": 5,
   "id": "db385358",
   "metadata": {},
   "outputs": [],
   "source": [
    "# import splitfolders  # or import split_folders\n",
    "\n",
    "# # Split with a ratio.\n",
    "# # To only split into training and validation set, set a tuple to `ratio`, i.e, `(.8, .2)`.\n",
    "# splitfolders.ratio(\"data/train\", output=\"output\", seed=1337, ratio=(.8, .2), group_prefix=None) # default values"
   ]
  },
  {
   "cell_type": "code",
   "execution_count": 6,
   "id": "ada9fff4",
   "metadata": {},
   "outputs": [],
   "source": [
    "# from torch.utils.tensorboard import SummaryWriter\n",
    "# writer = SummaryWriter('runs/CNS_scratch_1')#tensorboard"
   ]
  },
  {
   "cell_type": "code",
   "execution_count": 7,
   "id": "8e3616ce",
   "metadata": {},
   "outputs": [
    {
     "data": {
      "text/plain": [
       "True"
      ]
     },
     "execution_count": 7,
     "metadata": {},
     "output_type": "execute_result"
    }
   ],
   "source": [
    "torch.cuda.is_available()"
   ]
  },
  {
   "cell_type": "code",
   "execution_count": 8,
   "id": "107759f1",
   "metadata": {},
   "outputs": [],
   "source": [
    "TRAIN_DATA_PATH = \"output\"\n",
    "BATCH_SIZE = 4\n",
    "EPOCHS = 25\n",
    "mean = [0.8249, 0.8083, 0.8291]#calculated using the function above\n",
    "std = [0.1698, 0.1917, 0.1764]#calculated using the fucntion above\n",
    "# mean = [1.3396, 1.4058, 1.6964]\n",
    "# std = [1.1032, 1.1746, 1.1060]"
   ]
  },
  {
   "cell_type": "code",
   "execution_count": 9,
   "id": "03df9c23",
   "metadata": {},
   "outputs": [],
   "source": [
    "# get_mean_and_std(train_iter_loader)"
   ]
  },
  {
   "cell_type": "code",
   "execution_count": 10,
   "id": "4d6a4a1f",
   "metadata": {},
   "outputs": [],
   "source": [
    "TRANSFORM_IMG_train = transforms.Compose([\n",
    "    transforms.ToPILImage(),\n",
    "    transforms.Resize((512,512)),\n",
    "    transforms.RandomHorizontalFlip(),\n",
    "    transforms.RandomRotation(10),\n",
    "    transforms.RandomVerticalFlip(),\n",
    "#     transforms.Resize(256),\n",
    "#     transforms.CenterCrop(256),\n",
    "    transforms.ToTensor(),\n",
    "    transforms.Normalize(torch.Tensor(mean),torch.Tensor(std))\n",
    "    ])\n",
    "TRANSFORM_IMG_test = transforms.Compose([\n",
    "    transforms.ToPILImage(),\n",
    "    transforms.Resize((512,512)),\n",
    "    # transforms.Resize(256),\n",
    "    # transforms.CenterCrop(256),\n",
    "    transforms.ToTensor(),\n",
    "    transforms.Normalize(torch.Tensor(mean),torch.Tensor(std))\n",
    "    ])"
   ]
  },
  {
   "cell_type": "code",
   "execution_count": 11,
   "id": "b07e33bc",
   "metadata": {},
   "outputs": [],
   "source": [
    "classes = {'colon': 0,'endometrium_1': 1,'endometrium_2': 2,'kidney': 3,\n",
    "'liver': 4,'lung': 5,'lymph_node': 6,'pancreas': 7,'skin_1': 8,'skin_2': 9,'small_intestine': 10,'spleen': 11}"
   ]
  },
  {
   "cell_type": "code",
   "execution_count": 12,
   "id": "16c91dbf",
   "metadata": {},
   "outputs": [],
   "source": [
    "class CNSDataset(Dataset):\n",
    "    def __init__(self,train_or_test,transform):\n",
    "        self.transform = transform\n",
    "        self.imgs_path = \"output/\"+str(train_or_test)+\"/\"\n",
    "        file_list = glob.glob(self.imgs_path + \"*\")\n",
    "#         print(\"Folder\",file_list)\n",
    "        self.data = []\n",
    "        for class_path in file_list:\n",
    "            class_name = class_path.split(\"\\\\\")[-1]\n",
    "#             print(\"class_names\",class_name)\n",
    "            for img_path in glob.glob(class_path + \"/*.tif\"):\n",
    "                self.data.append([img_path, class_name])\n",
    "#         print(self.data)\n",
    "        self.class_map = classes\n",
    "        self.img_dim = (512,512)\n",
    "    def __len__(self):\n",
    "        return len(self.data)\n",
    "    def __getitem__(self, idx):\n",
    "        img_path, class_name = self.data[idx]\n",
    "        img = cv2.imread(img_path)\n",
    "        img = cv2.resize(img, self.img_dim)\n",
    "#         norm = np.zeros((224,224))\n",
    "#         img = cv2.normalize(img,None,alpha=0,beta=1,norm_type=cv2.NORM_MINMAX, dtype=cv2.CV_32F)\n",
    "        class_id = self.class_map[class_name]\n",
    "        img_tensor = torch.from_numpy(img)\n",
    "        img_tensor = img_tensor.permute(2, 0, 1)        \n",
    "        img_tensor = self.transform(img)\n",
    "        class_id = torch.tensor(class_id)\n",
    "        return img_tensor, class_id"
   ]
  },
  {
   "cell_type": "code",
   "execution_count": 13,
   "id": "62fac4e5",
   "metadata": {},
   "outputs": [],
   "source": [
    "if __name__ == \"__main__\":\n",
    "    dataset = CNSDataset('train',TRANSFORM_IMG_train)\n",
    "    train_iter_loader = DataLoader(dataset, batch_size=BATCH_SIZE, shuffle=True,generator=torch.Generator(device='cuda'))\n",
    "    dataset = CNSDataset('val',TRANSFORM_IMG_test)\n",
    "    test_iter_loader = DataLoader(dataset, batch_size=BATCH_SIZE, shuffle=True,generator=torch.Generator(device='cuda'))"
   ]
  },
  {
   "cell_type": "code",
   "execution_count": 14,
   "id": "b8ddfc2e",
   "metadata": {},
   "outputs": [],
   "source": [
    "# for i,(image,label) in enumerate(train_iter_loader):\n",
    "#     print(i,label,image.shape)"
   ]
  },
  {
   "cell_type": "code",
   "execution_count": 15,
   "id": "0a27320b",
   "metadata": {},
   "outputs": [],
   "source": [
    "# def imshow(img):\n",
    "#     img = img / 2 + 0.5\n",
    "#     npimg = img.numpy()\n",
    "#     plt.imshow(np.transpose(npimg,(1,2,0)))\n",
    "#     plt.show()\n",
    "\n",
    "# dataiter = iter(train_iter_loader)\n",
    "# images, labels = dataiter.next()\n",
    "# imshow(torchvision.utils.make_grid(images))\n",
    "\n",
    "# print(' '.join('%s' % classes[labels[j]] for j in range(BATCH_SIZE)))"
   ]
  },
  {
   "cell_type": "code",
   "execution_count": 16,
   "id": "3292e7e2",
   "metadata": {},
   "outputs": [],
   "source": [
    "class CNN(nn.Module):\n",
    "    def __init__(self):\n",
    "        super(CNN, self).__init__()\n",
    "        self.conv1 = nn.Conv2d(3,6,5)\n",
    "        self.pool = nn.MaxPool2d(2,2)\n",
    "        self.conv2 = nn.Conv2d(6,16,5)\n",
    "        self.fc1 = nn.Linear(16*125*125,120)\n",
    "        self.fc2 = nn.Linear(120,84)\n",
    "        self.fc3  = nn.Linear(84,len(classes))\n",
    "\n",
    "    def forward(self,x):\n",
    "        x = self.pool(F.relu(self.conv1(x)))\n",
    "        x = self.pool(F.relu(self.conv2(x)))\n",
    "        x = x.view(-1,16*125*125)\n",
    "        x = F.relu(self.fc1(x))\n",
    "        x = F.relu(self.fc2(x))\n",
    "        x = self.fc3(x)\n",
    "        return x"
   ]
  },
  {
   "cell_type": "code",
   "execution_count": 17,
   "id": "91fd64eb",
   "metadata": {},
   "outputs": [],
   "source": [
    "net = CNN()"
   ]
  },
  {
   "cell_type": "code",
   "execution_count": 18,
   "id": "fba87792",
   "metadata": {},
   "outputs": [
    {
     "data": {
      "text/plain": [
       "CNN(\n",
       "  (conv1): Conv2d(3, 6, kernel_size=(5, 5), stride=(1, 1))\n",
       "  (pool): MaxPool2d(kernel_size=2, stride=2, padding=0, dilation=1, ceil_mode=False)\n",
       "  (conv2): Conv2d(6, 16, kernel_size=(5, 5), stride=(1, 1))\n",
       "  (fc1): Linear(in_features=250000, out_features=120, bias=True)\n",
       "  (fc2): Linear(in_features=120, out_features=84, bias=True)\n",
       "  (fc3): Linear(in_features=84, out_features=12, bias=True)\n",
       ")"
      ]
     },
     "execution_count": 18,
     "metadata": {},
     "output_type": "execute_result"
    }
   ],
   "source": [
    "net.to(device)\n",
    "net.cuda()"
   ]
  },
  {
   "cell_type": "code",
   "execution_count": 19,
   "id": "ed5260e4",
   "metadata": {},
   "outputs": [
    {
     "name": "stderr",
     "output_type": "stream",
     "text": [
      "c:\\users\\madha\\appdata\\local\\programs\\python\\python38\\lib\\site-packages\\torch\\nn\\functional.py:718: UserWarning: Named tensors and all their associated APIs are an experimental feature and subject to change. Please do not use them for anything important until they are released as stable. (Triggered internally at  ..\\c10/core/TensorImpl.h:1156.)\n",
      "  return torch.max_pool2d(input, kernel_size, stride, padding, dilation, ceil_mode)\n"
     ]
    },
    {
     "name": "stdout",
     "output_type": "stream",
     "text": [
      "[1,   100] loss: 2.466\n",
      "[1,   200] loss: 2.305\n",
      "Epoch: 0 Accuracy: 13.125\n",
      "[2,   100] loss: 2.254\n",
      "[2,   200] loss: 2.173\n",
      "Epoch: 1 Accuracy: 17.708333333333332\n",
      "[3,   100] loss: 2.049\n",
      "[3,   200] loss: 2.131\n",
      "Epoch: 2 Accuracy: 22.8125\n",
      "[4,   100] loss: 2.051\n",
      "[4,   200] loss: 2.020\n",
      "Epoch: 3 Accuracy: 23.229166666666668\n",
      "[5,   100] loss: 1.892\n",
      "[5,   200] loss: 2.060\n",
      "Epoch: 4 Accuracy: 26.666666666666668\n",
      "[6,   100] loss: 1.924\n",
      "[6,   200] loss: 2.002\n",
      "Epoch: 5 Accuracy: 26.666666666666668\n",
      "[7,   100] loss: 1.890\n",
      "[7,   200] loss: 1.851\n",
      "Epoch: 6 Accuracy: 29.583333333333332\n",
      "[8,   100] loss: 1.980\n",
      "[8,   200] loss: 1.891\n",
      "Epoch: 7 Accuracy: 27.5\n",
      "[9,   100] loss: 1.801\n",
      "[9,   200] loss: 1.830\n",
      "Epoch: 8 Accuracy: 33.4375\n",
      "[10,   100] loss: 1.724\n",
      "[10,   200] loss: 1.820\n",
      "Epoch: 9 Accuracy: 33.958333333333336\n",
      "[11,   100] loss: 1.635\n",
      "[11,   200] loss: 1.869\n",
      "Epoch: 10 Accuracy: 33.854166666666664\n",
      "[12,   100] loss: 1.689\n",
      "[12,   200] loss: 1.765\n",
      "Epoch: 11 Accuracy: 35.833333333333336\n",
      "[13,   100] loss: 1.779\n",
      "[13,   200] loss: 1.691\n",
      "Epoch: 12 Accuracy: 38.020833333333336\n",
      "[14,   100] loss: 1.638\n",
      "[14,   200] loss: 1.710\n",
      "Epoch: 13 Accuracy: 36.458333333333336\n",
      "[15,   100] loss: 1.735\n",
      "[15,   200] loss: 1.653\n",
      "Epoch: 14 Accuracy: 39.791666666666664\n",
      "[16,   100] loss: 1.590\n",
      "[16,   200] loss: 1.602\n",
      "Epoch: 15 Accuracy: 41.458333333333336\n",
      "[17,   100] loss: 1.632\n",
      "[17,   200] loss: 1.866\n",
      "Epoch: 16 Accuracy: 36.666666666666664\n",
      "[18,   100] loss: 1.718\n",
      "[18,   200] loss: 1.596\n",
      "Epoch: 17 Accuracy: 39.375\n",
      "[19,   100] loss: 1.588\n",
      "[19,   200] loss: 1.678\n",
      "Epoch: 18 Accuracy: 40.729166666666664\n",
      "[20,   100] loss: 1.569\n",
      "[20,   200] loss: 1.605\n",
      "Epoch: 19 Accuracy: 41.458333333333336\n",
      "[21,   100] loss: 1.520\n",
      "[21,   200] loss: 1.472\n",
      "Epoch: 20 Accuracy: 45.208333333333336\n",
      "[22,   100] loss: 1.486\n",
      "[22,   200] loss: 1.487\n",
      "Epoch: 21 Accuracy: 44.375\n",
      "[23,   100] loss: 1.831\n",
      "[23,   200] loss: 1.598\n",
      "Epoch: 22 Accuracy: 40.833333333333336\n",
      "[24,   100] loss: 1.443\n",
      "[24,   200] loss: 1.415\n",
      "Epoch: 23 Accuracy: 47.291666666666664\n",
      "[25,   100] loss: 1.422\n",
      "[25,   200] loss: 1.424\n",
      "Epoch: 24 Accuracy: 43.541666666666664\n",
      "Finished Training\n",
      "2410684.0\n"
     ]
    }
   ],
   "source": [
    "criterion = nn.CrossEntropyLoss().to(device)\n",
    "optimizer = optim.SGD(net.parameters(), lr=0.0025, momentum=0.9)\n",
    "\n",
    "start=  torch.cuda.Event(enable_timing=True)\n",
    "end = torch.cuda.Event(enable_timing=True)\n",
    "\n",
    "start.record()\n",
    "accuracy_list = []\n",
    "best_accuracy = 0\n",
    "for epoch in range(EPOCHS):\n",
    "    correct = 0\n",
    "    total = 0\n",
    "    gc.collect()\n",
    "    running_loss = 0.0\n",
    "    for i, (image,label) in enumerate(train_iter_loader):\n",
    "        inputs = image.to(device)\n",
    "        labels = label.to(device)\n",
    "        optimizer.zero_grad()\n",
    "        \n",
    "        img_grid = torchvision.utils.make_grid(inputs)\n",
    "#         write to tensorboard\n",
    "#         writer.add_image('CNS_images', img_grid)\n",
    "#         writer.add_graph(net, inputs)\n",
    "#         writer.close()\n",
    "\n",
    "        outputs = net(inputs)\n",
    "        loss  = criterion(outputs,labels)\n",
    "        loss.backward()\n",
    "        optimizer.step()\n",
    "\n",
    "        running_loss += loss.item()\n",
    "        if i%100 == 99:\n",
    "            print('[%d, %5d] loss: %.3f' %(epoch + 1,i+1,running_loss/100))\n",
    "            running_loss=0.0\n",
    "#             writer.add_scalar(\"Loss/train\", running_loss, epoch)            \n",
    "        _, predicted = torch.max(outputs.data, 1)\n",
    "\n",
    "        \n",
    "        total += labels.size(0)\n",
    "        correct += (predicted == labels).sum().item()\n",
    "    print(\"Epoch:\",epoch,'Accuracy:',100*correct/total)\n",
    "    current_accuracy = 100 * correct/total\n",
    "    accuracy_list.append(current_accuracy)\n",
    "    if current_accuracy > best_accuracy:\n",
    "        model_name = f'model_save/CNS_{int(current_accuracy)}_RA_update.pth'\n",
    "        torch.save(net.state_dict(), model_name)\n",
    "        best_accuracy = current_accuracy\n",
    "    \n",
    "end.record()\n",
    "\n",
    "torch.cuda.synchronize()\n",
    "\n",
    "print('Finished Training')\n",
    "print(start.elapsed_time(end))"
   ]
  },
  {
   "cell_type": "code",
   "execution_count": 20,
   "id": "bc2a1310",
   "metadata": {},
   "outputs": [],
   "source": [
    "df = pd.DataFrame(accuracy_list,columns=['Accuracy'])\n",
    "df['epochs'] = np.arange(1,len(accuracy_list)+1).astype('int')"
   ]
  },
  {
   "cell_type": "code",
   "execution_count": 21,
   "id": "8fc98422",
   "metadata": {},
   "outputs": [
    {
     "data": {
      "text/plain": [
       "Text(0.5, 0, 'Epochs')"
      ]
     },
     "execution_count": 21,
     "metadata": {},
     "output_type": "execute_result"
    },
    {
     "data": {
      "image/png": "[encoded data removed]",
      "text/plain": [
       "<Figure size 720x576 with 1 Axes>"
      ]
     },
     "metadata": {
      "needs_background": "light"
     },
     "output_type": "display_data"
    }
   ],
   "source": [
    "plt.figure(figsize=(10,8))\n",
    "fig = sns.lineplot(x='epochs',y='Accuracy',data=df)\n",
    "\n",
    "# fig.set_xticklabels()\n",
    "fig.set_xlabel('Epochs')"
   ]
  },
  {
   "cell_type": "code",
   "execution_count": 22,
   "id": "dc9a25a8",
   "metadata": {},
   "outputs": [
    {
     "name": "stdout",
     "output_type": "stream",
     "text": [
      "tensor([7, 2, 4, 1]) tensor([7, 4, 1, 1])\n",
      "tensor([7, 2, 7, 1]) tensor([11,  2,  3,  1])\n",
      "tensor([3, 0, 3, 1]) tensor([9, 0, 4, 4])\n",
      "tensor([11,  5,  2,  7]) tensor([11,  5,  1,  3])\n",
      "tensor([8, 7, 0, 5]) tensor([9, 3, 5, 5])\n",
      "tensor([9, 9, 8, 6]) tensor([9, 9, 8, 2])\n",
      "tensor([10, 11,  5,  3]) tensor([1, 7, 1, 3])\n",
      "tensor([6, 9, 3, 5]) tensor([6, 8, 1, 5])\n",
      "tensor([ 9,  8, 10,  7]) tensor([9, 8, 1, 2])\n",
      "tensor([ 0,  0, 11,  2]) tensor([10, 10,  4,  2])\n",
      "tensor([7, 9, 7, 8]) tensor([11,  5,  7,  5])\n",
      "tensor([ 1, 10,  4,  0]) tensor([ 3, 10,  1,  1])\n",
      "tensor([ 5, 10,  5,  4]) tensor([5, 1, 5, 2])\n",
      "tensor([7, 3, 1, 3]) tensor([ 7, 10,  1,  3])\n",
      "tensor([ 0, 11,  7,  6]) tensor([10, 11,  7,  7])\n",
      "tensor([ 6, 10,  2,  1]) tensor([7, 1, 2, 1])\n",
      "tensor([ 6, 11,  8,  1]) tensor([4, 4, 9, 1])\n",
      "tensor([8, 8, 6, 1]) tensor([5, 8, 7, 1])\n",
      "tensor([8, 2, 1, 6]) tensor([8, 1, 1, 3])\n",
      "tensor([ 0,  6, 10, 11]) tensor([ 9,  2,  5, 11])\n",
      "tensor([ 1,  1,  4, 11]) tensor([2, 1, 4, 4])\n",
      "tensor([10,  9,  0,  9]) tensor([10,  9, 10,  8])\n",
      "tensor([ 4, 11,  2,  8]) tensor([4, 7, 9, 8])\n",
      "tensor([11,  0,  2,  0]) tensor([11, 11,  2, 10])\n",
      "tensor([ 2, 11,  4,  7]) tensor([4, 4, 4, 7])\n",
      "tensor([11,  2, 11, 10]) tensor([ 7,  4,  2, 10])\n",
      "tensor([ 3,  3, 10,  2]) tensor([10,  7, 10,  4])\n",
      "tensor([ 6,  9, 10,  7]) tensor([ 4,  2, 10,  7])\n",
      "tensor([ 7,  7, 10,  5]) tensor([11,  3,  3,  1])\n",
      "tensor([ 3,  9,  4, 10]) tensor([ 3,  9,  2, 10])\n",
      "tensor([2, 4, 4, 5]) tensor([ 4,  4,  4, 10])\n",
      "tensor([5, 0, 9, 4]) tensor([ 5, 10,  4,  4])\n",
      "tensor([ 2, 10,  0, 10]) tensor([7, 1, 1, 3])\n",
      "tensor([1, 1, 7, 8]) tensor([ 4,  1, 11,  9])\n",
      "tensor([5, 7, 5, 9]) tensor([5, 3, 5, 3])\n",
      "tensor([ 8, 10, 11,  0]) tensor([8, 3, 4, 7])\n",
      "tensor([ 6, 11,  5,  3]) tensor([11,  6,  5,  3])\n",
      "tensor([8, 2, 8, 7]) tensor([8, 4, 9, 9])\n",
      "tensor([5, 7, 4, 8]) tensor([ 5,  7, 11,  9])\n",
      "tensor([1, 2, 6, 8]) tensor([1, 2, 7, 8])\n",
      "tensor([0, 8, 9, 7]) tensor([9, 8, 9, 7])\n",
      "tensor([ 2,  3, 11,  1]) tensor([2, 3, 4, 4])\n",
      "tensor([9, 9, 1, 2]) tensor([8, 9, 4, 2])\n",
      "tensor([8, 6, 6, 5]) tensor([8, 2, 2, 5])\n",
      "tensor([0, 0, 0, 3]) tensor([10,  1, 10,  3])\n",
      "tensor([3, 6, 5, 4]) tensor([10, 11,  5,  4])\n",
      "tensor([4, 6, 3, 4]) tensor([4, 7, 3, 4])\n",
      "tensor([5, 6, 8, 5]) tensor([1, 7, 9, 5])\n",
      "tensor([ 3, 10, 11,  1]) tensor([3, 9, 4, 2])\n",
      "tensor([ 7, 11, 11,  5]) tensor([11,  4, 11,  5])\n",
      "tensor([6, 9, 5, 6]) tensor([11,  8,  9, 11])\n",
      "tensor([9, 2, 0, 5]) tensor([ 2,  3, 10,  5])\n",
      "tensor([10,  0,  8,  4]) tensor([7, 3, 1, 4])\n",
      "tensor([1, 6, 3, 3]) tensor([ 4, 11,  1,  1])\n",
      "tensor([11,  6,  8, 10]) tensor([7, 7, 2, 1])\n",
      "tensor([10, 11,  4,  4]) tensor([10,  6,  4,  1])\n",
      "tensor([10,  9,  2,  1]) tensor([3, 2, 2, 4])\n",
      "tensor([4, 4, 4, 3]) tensor([4, 4, 4, 4])\n",
      "tensor([3, 0, 9, 3]) tensor([3, 9, 9, 2])\n",
      "tensor([9, 2, 9, 1]) tensor([2, 2, 8, 3])\n",
      "Accuracy of the network on the test images: 40 %\n"
     ]
    }
   ],
   "source": [
    "correct = 0\n",
    "total = 0\n",
    "actual = []\n",
    "predicted_list = []\n",
    "with torch.no_grad():\n",
    "    for _,(image,label) in enumerate(test_iter_loader):\n",
    "        images = image.to(device)\n",
    "        labels = label.to(device)\n",
    "        outputs = net(images)\n",
    "        _, predicted = torch.max(outputs.data, 1)\n",
    "        total += labels.size(0)\n",
    "        for i in range(len(predicted)):\n",
    "            actual.append(labels[i].view(-1).detach().cpu().numpy())\n",
    "            predicted_list.append(predicted[i].view(-1).detach().cpu().numpy())\n",
    "#         actual.append(labels)\n",
    "#         predicted_list.append(predicted)\n",
    "        print(labels,predicted)\n",
    "        correct += (predicted == labels).sum().item()\n",
    "# \n",
    "print('Accuracy of the network on the test images: %d %%' % (\n",
    "    100 * correct / total))"
   ]
  },
  {
   "cell_type": "code",
   "execution_count": 23,
   "id": "87163285",
   "metadata": {},
   "outputs": [],
   "source": [
    "arr = classification_report(np.array(actual), np.array(predicted_list),target_names=classes)"
   ]
  },
  {
   "cell_type": "code",
   "execution_count": 24,
   "id": "d63118db",
   "metadata": {},
   "outputs": [
    {
     "name": "stdout",
     "output_type": "stream",
     "text": [
      "                 precision    recall  f1-score   support\n",
      "\n",
      "          colon       1.00      0.05      0.10        20\n",
      "  endometrium_1       0.32      0.50      0.39        20\n",
      "  endometrium_2       0.36      0.45      0.40        20\n",
      "         kidney       0.38      0.45      0.41        20\n",
      "          liver       0.36      0.70      0.47        20\n",
      "           lung       0.75      0.75      0.75        20\n",
      "     lymph_node       0.33      0.05      0.09        20\n",
      "       pancreas       0.35      0.40      0.37        20\n",
      "         skin_1       0.67      0.50      0.57        20\n",
      "         skin_2       0.36      0.40      0.38        20\n",
      "small_intestine       0.35      0.35      0.35        20\n",
      "         spleen       0.29      0.25      0.27        20\n",
      "\n",
      "       accuracy                           0.40       240\n",
      "      macro avg       0.46      0.40      0.38       240\n",
      "   weighted avg       0.46      0.40      0.38       240\n",
      "\n"
     ]
    }
   ],
   "source": [
    "print(arr)"
   ]
  },
  {
   "cell_type": "code",
   "execution_count": 25,
   "id": "addaed78",
   "metadata": {},
   "outputs": [
    {
     "data": {
      "text/plain": [
       "<AxesSubplot:>"
      ]
     },
     "execution_count": 25,
     "metadata": {},
     "output_type": "execute_result"
    },
    {
     "data": {
      "image/png": "[encoded data removed]",
      "text/plain": [
       "<Figure size 720x720 with 2 Axes>"
      ]
     },
     "metadata": {
      "needs_background": "light"
     },
     "output_type": "display_data"
    }
   ],
   "source": [
    "confusion_matrix = confusion_matrix(np.array(actual), np.array(predicted_list))\n",
    "plt.figure(figsize=(10,10))\n",
    "sns.heatmap(pd.DataFrame(confusion_matrix),annot=True,xticklabels=classes,yticklabels=classes)"
   ]
  },
  {
   "cell_type": "code",
   "execution_count": 26,
   "id": "56bea197",
   "metadata": {},
   "outputs": [],
   "source": [
    "# PATH = './CNS_final_scratch.pth'\n",
    "# torch.save(net.state_dict(), PATH)"
   ]
  },
  {
   "cell_type": "code",
   "execution_count": 27,
   "id": "9c979f8f",
   "metadata": {},
   "outputs": [],
   "source": [
    "# net.load_state_dict(torch.load('CNS_75_RA_scratch_transform_512_trial1.pth'))"
   ]
  },
  {
   "cell_type": "code",
   "execution_count": null,
   "id": "d33f5a18",
   "metadata": {},
   "outputs": [],
   "source": []
  }
 ],
 "metadata": {
  "kernelspec": {
   "display_name": "Python 3 (ipykernel)",
   "language": "python",
   "name": "python3"
  },
  "language_info": {
   "codemirror_mode": {
    "name": "ipython",
    "version": 3
   },
   "file_extension": ".py",
   "mimetype": "text/x-python",
   "name": "python",
   "nbconvert_exporter": "python",
   "pygments_lexer": "ipython3",
   "version": "3.8.0"
  }
 },
 "nbformat": 4,
 "nbformat_minor": 5
}
